{
 "cells": [
  {
   "cell_type": "code",
   "execution_count": null,
   "metadata": {
    "colab": {
     "base_uri": "https://localhost:8080/"
    },
    "id": "EisjxljeJEio",
    "outputId": "8dff0b29-cdac-432e-8110-d78fc498320e"
   },
   "outputs": [
    {
     "name": "stdout",
     "output_type": "stream",
     "text": [
      "\u001b[K     |████████████████████████████████| 8.9 MB 4.2 MB/s \n",
      "\u001b[K     |████████████████████████████████| 49 kB 5.0 MB/s \n",
      "\u001b[?25hSelecting previously unselected package coinor-libcoinutils3v5.\n",
      "(Reading database ... 160837 files and directories currently installed.)\n",
      "Preparing to unpack .../0-coinor-libcoinutils3v5_2.10.14+repack1-1_amd64.deb ...\n",
      "Unpacking coinor-libcoinutils3v5 (2.10.14+repack1-1) ...\n",
      "Selecting previously unselected package coinor-libosi1v5.\n",
      "Preparing to unpack .../1-coinor-libosi1v5_0.107.9+repack1-1_amd64.deb ...\n",
      "Unpacking coinor-libosi1v5 (0.107.9+repack1-1) ...\n",
      "Selecting previously unselected package coinor-libclp1.\n",
      "Preparing to unpack .../2-coinor-libclp1_1.16.11+repack1-1_amd64.deb ...\n",
      "Unpacking coinor-libclp1 (1.16.11+repack1-1) ...\n",
      "Selecting previously unselected package coinor-libcgl1.\n",
      "Preparing to unpack .../3-coinor-libcgl1_0.59.10+repack1-1_amd64.deb ...\n",
      "Unpacking coinor-libcgl1 (0.59.10+repack1-1) ...\n",
      "Selecting previously unselected package coinor-libcbc3.\n",
      "Preparing to unpack .../4-coinor-libcbc3_2.9.9+repack1-1_amd64.deb ...\n",
      "Unpacking coinor-libcbc3 (2.9.9+repack1-1) ...\n",
      "Selecting previously unselected package coinor-cbc.\n",
      "Preparing to unpack .../5-coinor-cbc_2.9.9+repack1-1_amd64.deb ...\n",
      "Unpacking coinor-cbc (2.9.9+repack1-1) ...\n",
      "Setting up coinor-libcoinutils3v5 (2.10.14+repack1-1) ...\n",
      "Setting up coinor-libosi1v5 (0.107.9+repack1-1) ...\n",
      "Setting up coinor-libclp1 (1.16.11+repack1-1) ...\n",
      "Setting up coinor-libcgl1 (0.59.10+repack1-1) ...\n",
      "Setting up coinor-libcbc3 (2.9.9+repack1-1) ...\n",
      "Setting up coinor-cbc (2.9.9+repack1-1) ...\n",
      "Processing triggers for man-db (2.8.3-2ubuntu0.1) ...\n",
      "Processing triggers for libc-bin (2.27-3ubuntu1.2) ...\n",
      "/sbin/ldconfig.real: /usr/local/lib/python3.7/dist-packages/ideep4py/lib/libmkldnn.so.0 is not a symbolic link\n",
      "\n"
     ]
    }
   ],
   "source": [
    "%matplotlib inline\n",
    "import matplotlib.pyplot as plt\n",
    "import matplotlib as mpl\n",
    "import pandas as pd\n",
    "\n",
    "import shutil\n",
    "import sys\n",
    "import os.path\n",
    "\n",
    "if not shutil.which(\"pyomo\"):\n",
    "    !pip install -q pyomo\n",
    "    assert(shutil.which(\"pyomo\"))\n",
    "\n",
    "if not (shutil.which(\"cbc\") or os.path.isfile(\"cbc\")):\n",
    "    if \"google.colab\" in sys.modules:\n",
    "        !apt-get install -y -qq coinor-cbc\n",
    "    else:\n",
    "        try:\n",
    "            !conda install -c conda-forge coincbc \n",
    "        except:\n",
    "            pass\n",
    "\n",
    "assert(shutil.which(\"cbc\") or os.path.isfile(\"cbc\"))\n",
    "from pyomo.environ import *\n",
    "from pyomo.gdp import *"
   ]
  },
  {
   "cell_type": "code",
   "execution_count": null,
   "metadata": {
    "id": "8MvGUKj2JadC"
   },
   "outputs": [],
   "source": [
    "M= [[[0, 1, 1, 1, 1, 1],\n",
    "  [1, 0, 0, 1, 1, 1],\n",
    "  [1, 0, 0, 1, 1, 1],\n",
    "  [1, 1, 1, 0, 0, 1],\n",
    "  [1, 1, 1, 1, 1, 0],\n",
    "  [1, 1, 1, 1, 1, 0],\n",
    "  [0,0,0,0,0,0]],\n",
    " [[0, 1, 1, 1, 1, 1],\n",
    "  [1, 0, 0, 1, 1, 1],\n",
    "  [1, 0, 0, 1, 1, 1],\n",
    "  [1, 1, 1, 1, 1, 0],\n",
    "  [1, 1, 1, 1, 1, 0],\n",
    "  [0, 0, 0, 0, 0, 0],\n",
    "  [0,0,0,0,0,0]],\n",
    " [[0, 1, 1, 1, 1, 1],\n",
    "  [1, 0, 0, 1, 1, 1],\n",
    "  [1, 0, 0, 1, 1, 1],\n",
    "  [1, 1, 1, 0, 0, 1],\n",
    "  [1, 1, 1, 1, 1, 0],\n",
    "  [1, 1, 1, 1, 1, 0],\n",
    "  [0,0,0,0,0,0]]]\n",
    "Dur = [[12.96, 12.96, 19.44, 12.96, 12.96, 6.04, 0],\n",
    "       [12.96, 12.96, 12.96, 12.96, 5.04, 0, 0],\n",
    "       [12.96, 12.96, 12.96, 12.96, 12.96, 5.04, 0]]\n",
    "I=3\n",
    "J=6\n",
    "K=6"
   ]
  },
  {
   "cell_type": "code",
   "execution_count": null,
   "metadata": {
    "id": "wjbzbtst7ctz"
   },
   "outputs": [],
   "source": [
    "Processes = [[('Cavity Insert, SG Block Up'),('Cavity Insert, CNC Turning Bottom'),('Cavity Insert, CNC Turning Top'),('Cavity Insert, CNC Milling'),('Cavity Insert, Insert Identification'),('Cavity Insert, Inspection 1')],\n",
    "              [('Cavity Sub Insert, SG Block Up'),('Cavity Sub Insert, CNC Turning Bottom'),('Cavity Sub Insert, CNC Turning Top'),('Cavity Sub Insert, Insert Identification'),('Cavity Sub Insert, Inspection'),('-')],\n",
    "             [('Cavity Insert, SG Block Up'),('Cavity Insert, CNC Turning Bottom'),('Cavity Insert, CNC Turning Top'),('Cavity Insert, CNC Milling Bottom'),('Cavity Insert, Insert Identification'),('Cavity Insert, Inspection')]]"
   ]
  },
  {
   "cell_type": "code",
   "execution_count": null,
   "metadata": {
    "id": "YMcSqlNi8-Rg"
   },
   "outputs": [],
   "source": [
    "Machines = ['Unit II Conventional', 'Unit II CNC Turning - 1', 'Unit II CNC Turning - 2', 'Unit II CNC Milling - 1', 'Unit II CNC Milling - 2', '-']"
   ]
  },
  {
   "cell_type": "code",
   "execution_count": null,
   "metadata": {
    "id": "IjlaLS4ZFU7b"
   },
   "outputs": [],
   "source": []
  },
  {
   "cell_type": "code",
   "execution_count": null,
   "metadata": {
    "colab": {
     "base_uri": "https://localhost:8080/"
    },
    "id": "5J4WG7ImG-Q1",
    "outputId": "f3210abe-2109-42e4-f88d-04b8e28edff5"
   },
   "outputs": [
    {
     "name": "stdout",
     "output_type": "stream",
     "text": [
      "# ==========================================================\n",
      "# = Solver Results                                         =\n",
      "# ==========================================================\n",
      "# ----------------------------------------------------------\n",
      "#   Problem Information\n",
      "# ----------------------------------------------------------\n",
      "Problem: \n",
      "- Name: unknown\n",
      "  Lower bound: 106.84\n",
      "  Upper bound: 106.84\n",
      "  Number of objectives: 1\n",
      "  Number of constraints: 243\n",
      "  Number of variables: 152\n",
      "  Number of binary variables: 756\n",
      "  Number of integer variables: 792\n",
      "  Number of nonzeros: 1\n",
      "  Sense: minimize\n",
      "# ----------------------------------------------------------\n",
      "#   Solver Information\n",
      "# ----------------------------------------------------------\n",
      "Solver: \n",
      "- Status: ok\n",
      "  User time: -1.0\n",
      "  System time: 2.66\n",
      "  Wallclock time: 2.72\n",
      "  Termination condition: optimal\n",
      "  Termination message: Model was solved to optimality (subject to tolerances), and an optimal solution is available.\n",
      "  Statistics: \n",
      "    Branch and bound: \n",
      "      Number of bounded subproblems: 316\n",
      "      Number of created subproblems: 316\n",
      "    Black box: \n",
      "      Number of iterations: 22499\n",
      "  Error rc: 0\n",
      "  Time: 2.7327613830566406\n",
      "# ----------------------------------------------------------\n",
      "#   Solution Information\n",
      "# ----------------------------------------------------------\n",
      "Solution: \n",
      "- number of solutions: 0\n",
      "  number of solutions displayed: 0\n"
     ]
    }
   ],
   "source": [
    "\n",
    "m = ConcreteModel()\n",
    "m.Jobs= range(I)\n",
    "m.Op = range(J)\n",
    "m.Mach = range(K)\n",
    " \n",
    "\n",
    "m.Bin = Var(m.Jobs, m.Op, m.Mach, domain=Boolean)\n",
    "\n",
    "m.Bin2 = Var(m.Jobs, m.Op, m.Jobs, m.Op, m.Mach, domain=Boolean)\n",
    "\n",
    "m.S = Var(m.Jobs, m.Op, m.Mach, domain=NonNegativeReals)\n",
    "\n",
    "m.C = Var(m.Jobs, m.Op, m.Mach, domain=NonNegativeReals)\n",
    "m.Ck = Var(m.Mach, domain=NonNegativeReals)\n",
    "m.Ms = Var(domain=NonNegativeReals)\n",
    "\n",
    "m.X = Var(m.Jobs, m.Op, m.Mach, domain=Boolean)\n",
    "\n",
    "\n",
    "m.First = ConstraintList()#....................................(1)\n",
    "for i in m.Jobs:\n",
    "  for j in m.Op:\n",
    "    for k in m.Mach:\n",
    "      m.First.add(M[i][j][k]+m.Bin[i,j,k]<=1)\n",
    "for i in m.Jobs:\n",
    "  for j in m.Op:\n",
    "    m.First.add(sum(m.Bin[i,j,k] for k in m.Mach)==1)\n",
    "\n",
    "m.Sec = ConstraintList()\n",
    "for i in m.Jobs:\n",
    "  for j in m.Op:\n",
    "    for k in m.Mach:\n",
    "      m.Sec.add(m.S[i,j,k]+m.C[i,j,k]<=m.Bin[i,j,k]*5000)\n",
    "m.Third = ConstraintList()\n",
    "for i in m.Jobs:\n",
    "  for j in m.Op:\n",
    "    for k in m.Mach:\n",
    "      if k==2:\n",
    "        m.Third.add(m.C[i,j,k]>=m.S[i,j,k]+Dur[i][j]+8-(1-m.Bin[i,j,k])*5000)\n",
    "      if  k==4:\n",
    "        m.Third.add(m.C[i,j,k]>=m.S[i,j,k]+Dur[i][j]+8-(1-m.Bin[i,j,k])*5000)\n",
    "      else:\n",
    "        m.Third.add(m.C[i,j,k]>=m.S[i,j,k]+Dur[i][j]-(1-m.Bin[i,j,k])*5000)\n",
    "\n",
    "m.Fourth=ConstraintList()\n",
    "for i in m.Jobs:\n",
    "  for j in m.Op:\n",
    "    for i2 in m.Jobs:\n",
    "      if i<i2:\n",
    "        for j2 in m.Op:\n",
    "          for k in range(0,6):\n",
    "            m.Fourth.add(m.S[i,j,k]>=m.C[i2,j2,k]-(m.Bin2[i,j,i2,j2,k])*5000)\n",
    "            m.Fourth.add(m.S[i2,j2,k]>=m.C[i,j,k]-(1-m.Bin2[i,j,i2,j2,k])*5000)\n",
    "\n",
    "            \n",
    "\n",
    "m.Sixth=ConstraintList()\n",
    "for i in m.Jobs:\n",
    "  for j in m.Op:\n",
    "    if j>0:\n",
    "      m.Sixth.add(sum(m.S[i,j,k] for k in m.Mach)>=sum(m.C[i,j-1,k] for k in m.Mach))\n",
    "\n",
    "\n",
    "m.Seventh = ConstraintList()\n",
    "for i in m.Jobs:\n",
    "  for j in m.Op:\n",
    "    for k in m.Mach:\n",
    "      m.Seventh.add(m.Ms>=m.Ck[k])\n",
    "\n",
    "m.Eight = ConstraintList()\n",
    "for i in m.Jobs:\n",
    "  for j in m.Op:\n",
    "    for k in m.Mach:\n",
    "      m.Seventh.add(m.Ck[k]>=m.C[i,j,k])\n",
    "\n",
    "\n",
    "\n",
    "m.d = Var(m.Jobs, m.Op, m.Mach, domain=NonNegativeIntegers)\n",
    "m.h = Var(m.Jobs, m.Op, m.Mach, domain=NonNegativeReals)\n",
    "\n",
    "m.Con = ConstraintList()\n",
    "for i in m.Jobs:\n",
    "  for j in m.Op:\n",
    "    for k in m.Mach:\n",
    "      if k==2:\n",
    "        m.Con.add(24*m.d[i,j,k]+m.h[i,j,k]==m.S[i,j,k])\n",
    "        m.Con.add(m.h[i,j,k]>=0)\n",
    "        m.Con.add(m.h[i,j,k]<=3.04)\n",
    "      if k==4:\n",
    "        m.Con.add(24*m.d[i,j,k]+m.h[i,j,k]==m.S[i,j,k])\n",
    "        m.Con.add(m.h[i,j,k]>=0)\n",
    "        m.Con.add(m.h[i,j,k]<=3.04)\n",
    "#m.Ninth = ConstraintList()\n",
    "#for i in m.Jobs:\n",
    "  #for j in m.Op:\n",
    "    #for k in m.Mach:\n",
    "      #m.Ninth.add(m.S[i,j,k]>=m.Bin[i,j,k]*a2[k])\n",
    "\n",
    "\n",
    "\n",
    "\n",
    "\n",
    "m.obj = Objective(expr = m.Ms, sense=minimize)\n",
    "\n",
    "SolverFactory('cbc').solve(m).write()\n",
    "\n",
    "\n"
   ]
  },
  {
   "cell_type": "code",
   "execution_count": null,
   "metadata": {
    "id": "YiYyNU3H7Ztj"
   },
   "outputs": [],
   "source": [
    "def dat(k):\n",
    "  a=k//1\n",
    "  d=a//24\n",
    "  t=a%24\n",
    "  m=(k%1)*60\n",
    "  return [d+1, t, m]\n",
    "A=[]"
   ]
  },
  {
   "cell_type": "code",
   "execution_count": null,
   "metadata": {
    "colab": {
     "base_uri": "https://localhost:8080/"
    },
    "id": "Z9RDZWHdYTun",
    "outputId": "6ae40c91-7f98-43f5-f187-d9867550c835"
   },
   "outputs": [
    {
     "data": {
      "text/plain": [
       "[['Cavity Insert, SG Block Up',\n",
       "  [2.0, 1.0, 55.2000000000001],\n",
       "  [2.0, 14.0, 52.80000000000015],\n",
       "  'Unit II Conventional'],\n",
       " ['Cavity Insert, CNC Turning Bottom',\n",
       "  [2.0, 14.0, 52.80000000000015],\n",
       "  [3.0, 3.0, 50.400000000000205],\n",
       "  'Unit II CNC Turning - 1'],\n",
       " ['Cavity Insert, CNC Turning Top',\n",
       "  [3.0, 3.0, 50.400000000000205],\n",
       "  [3.0, 23.0, 16.800000000000068],\n",
       "  'Unit II CNC Turning - 1'],\n",
       " ['Cavity Insert, CNC Milling',\n",
       "  [3.0, 23.0, 16.800000000000068],\n",
       "  [4.0, 12.0, 14.399999999999693],\n",
       "  'Unit II CNC Milling - 1'],\n",
       " ['Cavity Insert, Insert Identification',\n",
       "  [4.0, 15.0, 50.400000000000205],\n",
       "  [5.0, 4.0, 47.99999999999983],\n",
       "  '-'],\n",
       " ['Cavity Insert, Inspection 1',\n",
       "  [5.0, 4.0, 47.99999999999983],\n",
       "  [5.0, 10.0, 50.400000000000205],\n",
       "  '-'],\n",
       " ['Cavity Sub Insert, SG Block Up',\n",
       "  [1.0, 12.0, 57.60000000000005],\n",
       "  [2.0, 1.0, 55.2000000000001],\n",
       "  'Unit II Conventional'],\n",
       " ['Cavity Sub Insert, CNC Turning Bottom',\n",
       "  [2.0, 1.0, 55.2000000000001],\n",
       "  [2.0, 22.0, 52.80000000000015],\n",
       "  'Unit II CNC Turning - 2'],\n",
       " ['Cavity Sub Insert, CNC Turning Top',\n",
       "  [3.0, 0.0, 0.0],\n",
       "  [3.0, 20.0, 57.599999999999625],\n",
       "  'Unit II CNC Turning - 2'],\n",
       " ['Cavity Sub Insert, Insert Identification',\n",
       "  [3.0, 21.0, 50.400000000000205],\n",
       "  [4.0, 10.0, 47.99999999999983],\n",
       "  '-'],\n",
       " ['Cavity Sub Insert, Inspection',\n",
       "  [4.0, 10.0, 47.99999999999983],\n",
       "  [4.0, 15.0, 50.400000000000205],\n",
       "  '-'],\n",
       " ['Cavity Insert, SG Block Up',\n",
       "  [1.0, 0.0, 0.0],\n",
       "  [1.0, 12.0, 57.60000000000005],\n",
       "  'Unit II Conventional'],\n",
       " ['Cavity Insert, CNC Turning Bottom',\n",
       "  [1.0, 12.0, 57.60000000000005],\n",
       "  [2.0, 1.0, 55.2000000000001],\n",
       "  'Unit II CNC Turning - 1'],\n",
       " ['Cavity Insert, CNC Turning Top',\n",
       "  [2.0, 1.0, 55.2000000000001],\n",
       "  [2.0, 14.0, 52.80000000000015],\n",
       "  'Unit II CNC Turning - 1'],\n",
       " ['Cavity Insert, CNC Milling Bottom',\n",
       "  [2.0, 14.0, 52.80000000000015],\n",
       "  [3.0, 3.0, 50.400000000000205],\n",
       "  'Unit II CNC Milling - 1'],\n",
       " ['Cavity Insert, Insert Identification',\n",
       "  [3.0, 3.0, 50.400000000000205],\n",
       "  [3.0, 16.0, 47.99999999999983],\n",
       "  '-'],\n",
       " ['Cavity Insert, Inspection',\n",
       "  [3.0, 16.0, 47.99999999999983],\n",
       "  [3.0, 21.0, 50.400000000000205],\n",
       "  '-']]"
      ]
     },
     "execution_count": 8,
     "metadata": {
      "tags": []
     },
     "output_type": "execute_result"
    }
   ],
   "source": [
    "\n",
    "for i in m.Jobs:\n",
    "  for j in m.Op:\n",
    "    for k in m.Mach:\n",
    "      if m.Bin[i,j,k]()==1:\n",
    "        if Dur[i][j]>0:\n",
    "          A.append([Processes[i][j], dat(m.S[i,j,k]()), dat(m.C[i,j,k]()), Machines[k]])\n",
    "A\n"
   ]
  },
  {
   "cell_type": "code",
   "execution_count": null,
   "metadata": {
    "id": "HGj9gy4-QCpw"
   },
   "outputs": [],
   "source": [
    "from tabulate import tabulate"
   ]
  },
  {
   "cell_type": "code",
   "execution_count": null,
   "metadata": {
    "colab": {
     "base_uri": "https://localhost:8080/"
    },
    "id": "EgRYoKOZ5fOc",
    "outputId": "b0f7e7a2-ac06-40cc-e9b8-afed9e5a7498"
   },
   "outputs": [
    {
     "name": "stdout",
     "output_type": "stream",
     "text": [
      "+------------------------------------------+---------------------------------+---------------------------------+-------------------------+\n",
      "| Process                                  | Start (Day, Hour, Minute)       | Stop(Day, Hour, Minute)         | Machine                 |\n",
      "+==========================================+=================================+=================================+=========================+\n",
      "| Cavity Insert, SG Block Up               | [2.0, 1.0, 55.2000000000001]    | [2.0, 14.0, 52.80000000000015]  | Unit II Conventional    |\n",
      "+------------------------------------------+---------------------------------+---------------------------------+-------------------------+\n",
      "| Cavity Insert, CNC Turning Bottom        | [2.0, 14.0, 52.80000000000015]  | [3.0, 3.0, 50.400000000000205]  | Unit II CNC Turning - 1 |\n",
      "+------------------------------------------+---------------------------------+---------------------------------+-------------------------+\n",
      "| Cavity Insert, CNC Turning Top           | [3.0, 3.0, 50.400000000000205]  | [3.0, 23.0, 16.800000000000068] | Unit II CNC Turning - 1 |\n",
      "+------------------------------------------+---------------------------------+---------------------------------+-------------------------+\n",
      "| Cavity Insert, CNC Milling               | [3.0, 23.0, 16.800000000000068] | [4.0, 12.0, 14.399999999999693] | Unit II CNC Milling - 1 |\n",
      "+------------------------------------------+---------------------------------+---------------------------------+-------------------------+\n",
      "| Cavity Insert, Insert Identification     | [4.0, 15.0, 50.400000000000205] | [5.0, 4.0, 47.99999999999983]   | -                       |\n",
      "+------------------------------------------+---------------------------------+---------------------------------+-------------------------+\n",
      "| Cavity Insert, Inspection 1              | [5.0, 4.0, 47.99999999999983]   | [5.0, 10.0, 50.400000000000205] | -                       |\n",
      "+------------------------------------------+---------------------------------+---------------------------------+-------------------------+\n",
      "| Cavity Sub Insert, SG Block Up           | [1.0, 12.0, 57.60000000000005]  | [2.0, 1.0, 55.2000000000001]    | Unit II Conventional    |\n",
      "+------------------------------------------+---------------------------------+---------------------------------+-------------------------+\n",
      "| Cavity Sub Insert, CNC Turning Bottom    | [2.0, 1.0, 55.2000000000001]    | [2.0, 22.0, 52.80000000000015]  | Unit II CNC Turning - 2 |\n",
      "+------------------------------------------+---------------------------------+---------------------------------+-------------------------+\n",
      "| Cavity Sub Insert, CNC Turning Top       | [3.0, 0.0, 0.0]                 | [3.0, 20.0, 57.599999999999625] | Unit II CNC Turning - 2 |\n",
      "+------------------------------------------+---------------------------------+---------------------------------+-------------------------+\n",
      "| Cavity Sub Insert, Insert Identification | [3.0, 21.0, 50.400000000000205] | [4.0, 10.0, 47.99999999999983]  | -                       |\n",
      "+------------------------------------------+---------------------------------+---------------------------------+-------------------------+\n",
      "| Cavity Sub Insert, Inspection            | [4.0, 10.0, 47.99999999999983]  | [4.0, 15.0, 50.400000000000205] | -                       |\n",
      "+------------------------------------------+---------------------------------+---------------------------------+-------------------------+\n",
      "| Cavity Insert, SG Block Up               | [1.0, 0.0, 0.0]                 | [1.0, 12.0, 57.60000000000005]  | Unit II Conventional    |\n",
      "+------------------------------------------+---------------------------------+---------------------------------+-------------------------+\n",
      "| Cavity Insert, CNC Turning Bottom        | [1.0, 12.0, 57.60000000000005]  | [2.0, 1.0, 55.2000000000001]    | Unit II CNC Turning - 1 |\n",
      "+------------------------------------------+---------------------------------+---------------------------------+-------------------------+\n",
      "| Cavity Insert, CNC Turning Top           | [2.0, 1.0, 55.2000000000001]    | [2.0, 14.0, 52.80000000000015]  | Unit II CNC Turning - 1 |\n",
      "+------------------------------------------+---------------------------------+---------------------------------+-------------------------+\n",
      "| Cavity Insert, CNC Milling Bottom        | [2.0, 14.0, 52.80000000000015]  | [3.0, 3.0, 50.400000000000205]  | Unit II CNC Milling - 1 |\n",
      "+------------------------------------------+---------------------------------+---------------------------------+-------------------------+\n",
      "| Cavity Insert, Insert Identification     | [3.0, 3.0, 50.400000000000205]  | [3.0, 16.0, 47.99999999999983]  | -                       |\n",
      "+------------------------------------------+---------------------------------+---------------------------------+-------------------------+\n",
      "| Cavity Insert, Inspection                | [3.0, 16.0, 47.99999999999983]  | [3.0, 21.0, 50.400000000000205] | -                       |\n",
      "+------------------------------------------+---------------------------------+---------------------------------+-------------------------+\n"
     ]
    }
   ],
   "source": [
    "b = ['Process', 'Start (Day, Hour, Minute)', 'Stop(Day, Hour, Minute)', 'Machine']\n",
    "print(tabulate(A, headers=b, tablefmt=\"grid\"))\n",
    "\n",
    "df = pd.DataFrame(A, columns = ['Process', 'Start', 'Stop', 'Machine'])\n",
    "df.to_excel(r'new.xlsx', index = False)"
   ]
  },
  {
   "cell_type": "markdown",
   "metadata": {
    "id": "2CECaUPqjKjG"
   },
   "source": [
    "# New Section"
   ]
  },
  {
   "cell_type": "code",
   "execution_count": null,
   "metadata": {
    "id": "X7sc1didQAxK"
   },
   "outputs": [],
   "source": [
    "Processes = [[('Core Insert, SG Block up'),('Core Insert, BHT CNC Turning Bottom Setting'),('Core Insert, BHT CNC Turning Top Setting'),('Core Insert, Conventional Turning'),('Core Insert, Insert Identification'),('Core Insert, Inspection'),('-')],\n",
    "             [('Cooling  Insert, SG Block up'),('Cooling  Insert, CNC Turning Bottom Setting'),('Cooling  Insert, CNC Turning Top Setting'),('Cooling  Insert, CNC Milling Top Setting'),('Cooling  Insert, CNC Milling Bottom Setting'),('Cooling  Insert, Insert Identification'),('Cooling  Insert, Inspection'),],\n",
    "             [('Core Sub Insert, SG Block up'),('Core Sub Insert, CNC Turning Bottom Setting'),('Core Sub Insert, CNC Turning Top Setting'),('Core Sub Insert, Conventional Milling'),('Core Sub Insert, Insert Identification'),('Core Sub Insert, Inspection'),('-')]]"
   ]
  },
  {
   "cell_type": "code",
   "execution_count": null,
   "metadata": {
    "id": "QmHHcunmP8QT"
   },
   "outputs": [],
   "source": []
  },
  {
   "cell_type": "code",
   "execution_count": null,
   "metadata": {
    "id": "Oin2bVnduUha"
   },
   "outputs": [],
   "source": []
  },
  {
   "cell_type": "code",
   "execution_count": null,
   "metadata": {
    "colab": {
     "base_uri": "https://localhost:8080/"
    },
    "id": "VduIPIXrsU5w",
    "outputId": "bb92c153-c2c5-4bed-b2aa-ad6d43fbd4a0"
   },
   "outputs": [
    {
     "data": {
      "text/plain": [
       "[38.88, 71.28, 68.96, 84.24, 0.0, 105.84]"
      ]
     },
     "execution_count": 6,
     "metadata": {
      "tags": []
     },
     "output_type": "execute_result"
    }
   ],
   "source": [
    "a2=[m.Ck[i]() for i in m.Mach]\n",
    "a2"
   ]
  },
  {
   "cell_type": "code",
   "execution_count": null,
   "metadata": {
    "id": "16RL3i1pQAF9"
   },
   "outputs": [],
   "source": [
    "\n",
    "M=[[[0, 1, 1, 1, 1, 1],\n",
    "  [1, 0, 0, 1, 1, 1],\n",
    "  [1, 0, 0, 1, 1, 1],\n",
    "   [1, 0, 0, 1, 1, 1],\n",
    "   [1, 1, 1, 1, 1, 0],\n",
    "  [1, 1, 1, 1, 1, 0],\n",
    "   [0,0,0,0,0,0]],\n",
    "   [[0, 1, 1, 1, 1, 1],\n",
    "    [1, 0, 0, 1, 1, 1],\n",
    "  [1, 0, 0, 1, 1, 1],\n",
    "  [1, 1, 1, 0, 0, 1],\n",
    "  [1, 1, 1, 0, 0, 1],\n",
    "  [1, 1, 1, 1, 1, 0],\n",
    "  [1, 1, 1, 1, 1, 0]],\n",
    "  [[0, 1, 1, 1, 1, 1],\n",
    "  [1, 0, 0, 1, 1, 1],\n",
    "  [1, 0, 0, 1, 1, 1],\n",
    "  [1, 1, 1, 0, 0, 1],\n",
    "  [1, 1, 1, 1, 1, 0],\n",
    "  [1, 1, 1, 1, 1, 0],\n",
    "   [0,0,0,0,0,0]]]\n",
    "\n",
    "\n",
    "\n",
    "    \n",
    "\n",
    "\n",
    "Dur=[[12.96, 25.92, 25.92, 12.96, 12.96, 5.04, 0],\n",
    "     [12.96, 12.96, 12.96, 12.96, 19.44, 12.96, 5.04],\n",
    "     [12.96, 12.96, 12.96, 12.96, 12.96, 5.04, 0]]\n",
    "I=3\n",
    "J=7\n",
    "K=6\n"
   ]
  },
  {
   "cell_type": "code",
   "execution_count": null,
   "metadata": {
    "id": "ZbEdY0JVQhIc"
   },
   "outputs": [],
   "source": [
    "\n"
   ]
  },
  {
   "cell_type": "code",
   "execution_count": null,
   "metadata": {
    "colab": {
     "base_uri": "https://localhost:8080/",
     "height": 232
    },
    "id": "AnIQxeHNQqxj",
    "outputId": "11887d68-cd03-4af4-ed73-3ffc1406e618"
   },
   "outputs": [
    {
     "ename": "TypeError",
     "evalue": "ignored",
     "output_type": "error",
     "traceback": [
      "\u001b[0;31m---------------------------------------------------------------------------\u001b[0m",
      "\u001b[0;31mTypeError\u001b[0m                                 Traceback (most recent call last)",
      "\u001b[0;32m<ipython-input-55-da712f1a29f2>\u001b[0m in \u001b[0;36m<module>\u001b[0;34m()\u001b[0m\n\u001b[1;32m     22\u001b[0m   \u001b[0;32mfor\u001b[0m \u001b[0mj\u001b[0m \u001b[0;32min\u001b[0m \u001b[0mm\u001b[0m\u001b[0;34m.\u001b[0m\u001b[0mOp\u001b[0m\u001b[0;34m:\u001b[0m\u001b[0;34m\u001b[0m\u001b[0;34m\u001b[0m\u001b[0m\n\u001b[1;32m     23\u001b[0m     \u001b[0;32mfor\u001b[0m \u001b[0mk\u001b[0m \u001b[0;32min\u001b[0m \u001b[0mm\u001b[0m\u001b[0;34m.\u001b[0m\u001b[0mMach\u001b[0m\u001b[0;34m:\u001b[0m\u001b[0;34m\u001b[0m\u001b[0;34m\u001b[0m\u001b[0m\n\u001b[0;32m---> 24\u001b[0;31m       \u001b[0mm\u001b[0m\u001b[0;34m.\u001b[0m\u001b[0mFirst\u001b[0m\u001b[0;34m.\u001b[0m\u001b[0madd\u001b[0m\u001b[0;34m(\u001b[0m\u001b[0mM\u001b[0m\u001b[0;34m[\u001b[0m\u001b[0mi\u001b[0m\u001b[0;34m]\u001b[0m\u001b[0;34m[\u001b[0m\u001b[0mj\u001b[0m\u001b[0;34m]\u001b[0m\u001b[0;34m[\u001b[0m\u001b[0mk\u001b[0m\u001b[0;34m]\u001b[0m\u001b[0;34m+\u001b[0m\u001b[0mm\u001b[0m\u001b[0;34m.\u001b[0m\u001b[0mBin\u001b[0m\u001b[0;34m[\u001b[0m\u001b[0mi\u001b[0m\u001b[0;34m,\u001b[0m\u001b[0mj\u001b[0m\u001b[0;34m,\u001b[0m\u001b[0mk\u001b[0m\u001b[0;34m]\u001b[0m\u001b[0;34m<=\u001b[0m\u001b[0;36m1\u001b[0m\u001b[0;34m)\u001b[0m\u001b[0;34m\u001b[0m\u001b[0;34m\u001b[0m\u001b[0m\n\u001b[0m\u001b[1;32m     25\u001b[0m \u001b[0;32mfor\u001b[0m \u001b[0mi\u001b[0m \u001b[0;32min\u001b[0m \u001b[0mm\u001b[0m\u001b[0;34m.\u001b[0m\u001b[0mJobs\u001b[0m\u001b[0;34m:\u001b[0m\u001b[0;34m\u001b[0m\u001b[0;34m\u001b[0m\u001b[0m\n\u001b[1;32m     26\u001b[0m   \u001b[0;32mfor\u001b[0m \u001b[0mj\u001b[0m \u001b[0;32min\u001b[0m \u001b[0mm\u001b[0m\u001b[0;34m.\u001b[0m\u001b[0mOp\u001b[0m\u001b[0;34m:\u001b[0m\u001b[0;34m\u001b[0m\u001b[0;34m\u001b[0m\u001b[0m\n",
      "\u001b[0;31mTypeError\u001b[0m: 'int' object is not subscriptable"
     ]
    }
   ],
   "source": [
    "m = ConcreteModel()\n",
    "m.Jobs= range(I)\n",
    "m.Op = range(J)\n",
    "m.Mach = range(K)\n",
    "\n",
    "\n",
    "m.Bin = Var(m.Jobs, m.Op, m.Mach, domain=Boolean)\n",
    "\n",
    "m.Bin2 = Var(m.Jobs, m.Op, m.Jobs, m.Op, m.Mach, domain=Boolean)\n",
    "\n",
    "m.S = Var(m.Jobs, m.Op, m.Mach, domain=NonNegativeReals)\n",
    "\n",
    "m.C = Var(m.Jobs, m.Op, m.Mach, domain=NonNegativeReals)\n",
    "m.Ck = Var(m.Mach, domain=NonNegativeReals)\n",
    "m.Ms = Var(domain=NonNegativeReals)\n",
    "\n",
    "m.X = Var(m.Jobs, m.Op, m.Mach, domain=Boolean)\n",
    "\n",
    "\n",
    "m.First = ConstraintList()#....................................(1)\n",
    "for i in m.Jobs:\n",
    "  for j in m.Op:\n",
    "    for k in m.Mach:\n",
    "      m.First.add(M[i][j][k]+m.Bin[i,j,k]<=1)\n",
    "for i in m.Jobs:\n",
    "  for j in m.Op:\n",
    "    m.First.add(sum(m.Bin[i,j,k] for k in m.Mach)==1)\n",
    "\n",
    "m.Sec = ConstraintList()\n",
    "for i in m.Jobs:\n",
    "  for j in m.Op:\n",
    "    for k in m.Mach:\n",
    "      m.Sec.add(m.S[i,j,k]+m.C[i,j,k]<=m.Bin[i,j,k]*5000)\n",
    "m.Third = ConstraintList()\n",
    "for i in m.Jobs:\n",
    "  for j in m.Op:\n",
    "    for k in m.Mach:\n",
    "      if k==2:\n",
    "        m.Third.add(m.C[i,j,k]>=m.S[i,j,k]+Dur[i][j]+8-(1-m.Bin[i,j,k])*5000)\n",
    "      if  k==4:\n",
    "        m.Third.add(m.C[i,j,k]>=m.S[i,j,k]+Dur[i][j]+8-(1-m.Bin[i,j,k])*5000)\n",
    "      else:\n",
    "        m.Third.add(m.C[i,j,k]>=m.S[i,j,k]+Dur[i][j]-(1-m.Bin[i,j,k])*5000)\n",
    "\n",
    "m.Fourth=ConstraintList()\n",
    "for i in m.Jobs:\n",
    "  for j in m.Op:\n",
    "    for i2 in m.Jobs:\n",
    "      if i<i2:\n",
    "        for j2 in m.Op:\n",
    "          for k in range(0,6):\n",
    "            m.Fourth.add(m.S[i,j,k]>=m.C[i2,j2,k]-(m.Bin2[i,j,i2,j2,k])*5000)\n",
    "            m.Fourth.add(m.S[i2,j2,k]>=m.C[i,j,k]-(1-m.Bin2[i,j,i2,j2,k])*5000)\n",
    "\n",
    "            \n",
    "\n",
    "m.Sixth=ConstraintList()\n",
    "for i in m.Jobs:\n",
    "  for j in m.Op:\n",
    "    if j>0:\n",
    "      m.Sixth.add(sum(m.S[i,j,k] for k in m.Mach)>=sum(m.C[i,j-1,k] for k in m.Mach))\n",
    "\n",
    "\n",
    "m.Seventh = ConstraintList()\n",
    "for i in m.Jobs:\n",
    "  for j in m.Op:\n",
    "    for k in m.Mach:\n",
    "      m.Seventh.add(m.Ms>=m.C[i,j,k])\n",
    "\n",
    "m.Eight = ConstraintList()\n",
    "for i in m.Jobs:\n",
    "  for j in m.Op:\n",
    "    for k in m.Mach:\n",
    "      m.Seventh.add(m.Ck[k]>=m.C[i,j,k])\n",
    "\n",
    "\n",
    "\n",
    "m.d = Var(m.Jobs, m.Op, m.Mach, domain=NonNegativeIntegers)\n",
    "m.h = Var(m.Jobs, m.Op, m.Mach, domain=NonNegativeReals)\n",
    "\n",
    "m.Con = ConstraintList()\n",
    "for i in m.Jobs:\n",
    "  for j in m.Op:\n",
    "    for k in m.Mach:\n",
    "      if k==2:\n",
    "        m.Con.add(24*m.d[i,j,k]+m.h[i,j,k]==m.S[i,j,k])\n",
    "        m.Con.add(m.h[i,j,k]>=0)\n",
    "        m.Con.add(m.h[i,j,k]<=3.04)\n",
    "      if k==4:\n",
    "        m.Con.add(24*m.d[i,j,k]+m.h[i,j,k]==m.S[i,j,k])\n",
    "        m.Con.add(m.h[i,j,k]>=0)\n",
    "        m.Con.add(m.h[i,j,k]<=3.04)\n",
    "\n",
    "\n",
    "\n",
    "    \n",
    "\n",
    "\n",
    "#m.Eigth = ConstraintList()\n",
    "#m.Eigth.add(m.Ms>=sum(m.C[i,j,k] for i in m.Jobs for j in m.Op for k in m.Mach))\n",
    "\n",
    "m.obj = Objective(expr = m.Ms, sense=minimize)\n",
    "\n",
    "#SolverFactory('cbc').solve(m).write()\n",
    "\n",
    "\n"
   ]
  },
  {
   "cell_type": "code",
   "execution_count": null,
   "metadata": {
    "colab": {
     "base_uri": "https://localhost:8080/"
    },
    "id": "7xG3g7ANXS-p",
    "outputId": "81b11212-6508-4c59-fb11-156da38e0e4c"
   },
   "outputs": [
    {
     "name": "stdout",
     "output_type": "stream",
     "text": [
      "0 0 144.0 192.0 2\n",
      "0 1 192.0 246.0 1\n",
      "0 2 246.0 282.0 3\n",
      "0 3 282.0 318.0 6\n",
      "0 4 318.0 332.0 5\n",
      "0 5 332.0 368.0 5\n",
      "1 0 200.0 240.0 2\n",
      "1 1 240.0 276.0 2\n",
      "1 2 318.0 354.0 6\n",
      "1 3 368.0 382.0 5\n",
      "2 0 144.0 180.0 1\n",
      "2 1 246.0 282.0 1\n",
      "2 2 282.0 318.0 3\n",
      "2 3 318.0 354.0 3\n",
      "2 4 354.0 390.0 6\n",
      "2 5 390.0 404.0 5\n",
      "1706.0\n"
     ]
    }
   ],
   "source": [
    "for i in m.Jobs:\n",
    "  for j in m.Op:\n",
    "    for k in m.Mach:\n",
    "      if m.Bin[i,j,k]()==1:\n",
    "        if Dur[i][j]>0:\n",
    "          print(i,j, m.S[i,j,k](),m.C[i,j,k](), k+1)\n",
    "print(m.Ms())"
   ]
  },
  {
   "cell_type": "code",
   "execution_count": null,
   "metadata": {
    "colab": {
     "base_uri": "https://localhost:8080/"
    },
    "id": "TM-EwVWUJkp7",
    "outputId": "e8811e85-fde6-4315-d3af-13ab1dd734f6"
   },
   "outputs": [
    {
     "data": {
      "text/plain": [
       "[252.0, 216.0, 0.0, 288.0, 338.0, 324.0]"
      ]
     },
     "execution_count": 64,
     "metadata": {
      "tags": []
     },
     "output_type": "execute_result"
    }
   ],
   "source": [
    "a4=[m.Ck[i]() for i in m.Mach]\n",
    "a4"
   ]
  },
  {
   "cell_type": "code",
   "execution_count": null,
   "metadata": {
    "colab": {
     "base_uri": "https://localhost:8080/"
    },
    "id": "Wza3hAMnJqug",
    "outputId": "614177a0-25f2-4d1d-a27d-1a3619026bdc"
   },
   "outputs": [
    {
     "name": "stdout",
     "output_type": "stream",
     "text": [
      "# ==========================================================\n",
      "# = Solver Results                                         =\n",
      "# ==========================================================\n",
      "# ----------------------------------------------------------\n",
      "#   Problem Information\n",
      "# ----------------------------------------------------------\n",
      "Problem: \n",
      "- Name: unknown\n",
      "  Lower bound: 514.0\n",
      "  Upper bound: 514.0\n",
      "  Number of objectives: 1\n",
      "  Number of constraints: 376\n",
      "  Number of variables: 210\n",
      "  Number of binary variables: 756\n",
      "  Number of integer variables: 973\n",
      "  Number of nonzeros: 1\n",
      "  Sense: minimize\n",
      "# ----------------------------------------------------------\n",
      "#   Solver Information\n",
      "# ----------------------------------------------------------\n",
      "Solver: \n",
      "- Status: ok\n",
      "  User time: -1.0\n",
      "  System time: 43.8\n",
      "  Wallclock time: 44.86\n",
      "  Termination condition: optimal\n",
      "  Termination message: Model was solved to optimality (subject to tolerances), and an optimal solution is available.\n",
      "  Statistics: \n",
      "    Branch and bound: \n",
      "      Number of bounded subproblems: 26134\n",
      "      Number of created subproblems: 26134\n",
      "    Black box: \n",
      "      Number of iterations: 411580\n",
      "  Error rc: 0\n",
      "  Time: 44.88216853141785\n",
      "# ----------------------------------------------------------\n",
      "#   Solution Information\n",
      "# ----------------------------------------------------------\n",
      "Solution: \n",
      "- number of solutions: 0\n",
      "  number of solutions displayed: 0\n"
     ]
    }
   ],
   "source": [
    "m = ConcreteModel()\n",
    "m.Jobs= range(I)\n",
    "m.Op = range(J)\n",
    "m.Mach = range(K)\n",
    "\n",
    "m.Bin = Var(m.Jobs, m.Op, m.Mach, domain=Boolean)\n",
    "\n",
    "m.Bin2 = Var(m.Jobs, m.Op, m.Jobs, m.Op, m.Mach, domain=Boolean)\n",
    "\n",
    "m.S = Var(m.Jobs, m.Op, m.Mach, domain=NonNegativeIntegers)\n",
    "\n",
    "m.C = Var(m.Jobs, m.Op, m.Mach, domain=NonNegativeIntegers)\n",
    "\n",
    "m.Ms = Var(domain=Integers)\n",
    "\n",
    "m.First = ConstraintList()#....................................(1)\n",
    "for i in m.Jobs:\n",
    "  for j in m.Op:\n",
    "    for k in m.Mach:\n",
    "      m.First.add(M[i][j][k]+m.Bin[i,j,k]<=1)\n",
    "for i in m.Jobs:\n",
    "  for j in m.Op:\n",
    "    m.First.add(sum(m.Bin[i,j,k] for k in m.Mach)==1)\n",
    "\n",
    "m.Sec = ConstraintList()\n",
    "for i in m.Jobs:\n",
    "  for j in m.Op:\n",
    "    for k in m.Mach:\n",
    "      m.Sec.add(m.S[i,j,k]+m.C[i,j,k]<=m.Bin[i,j,k]*5000)\n",
    "m.Third = ConstraintList()\n",
    "for i in m.Jobs:\n",
    "  for j in m.Op:\n",
    "    for k in m.Mach:\n",
    "      m.Sec.add(m.C[i,j,k]>=m.S[i,j,k]+Dur[i][j]-(1-m.Bin[i,j,k])*5000)\n",
    "\n",
    "m.Fourth=ConstraintList()\n",
    "for i in m.Jobs:\n",
    "  for j in m.Op:\n",
    "    for i2 in m.Jobs:\n",
    "      if i<i2:\n",
    "        for j2 in m.Op:\n",
    "          for k in m.Mach:\n",
    "            m.Fourth.add(m.S[i,j,k]>=m.C[i2,j2,k]-(m.Bin2[i,j,i2,j2,k])*5000)\n",
    "\n",
    "m.Fifth=ConstraintList()\n",
    "for i in m.Jobs:\n",
    "  for j in m.Op:\n",
    "    for i2 in m.Jobs:\n",
    "      if i<i2:\n",
    "        for j2 in m.Op:\n",
    "          for k in m.Mach:\n",
    "            m.Fifth.add(m.S[i2,j2,k]>=m.C[i,j,k]-(1-m.Bin2[i,j,i2,j2,k])*5000)\n",
    "\n",
    "m.Sixth=ConstraintList()\n",
    "for i in m.Jobs:\n",
    "  for j in m.Op:\n",
    "    if j>0:\n",
    "      m.Sixth.add(sum(m.S[i,j,k] for k in m.Mach)>=sum(m.C[i,j-1,k] for k in m.Mach))\n",
    "\n",
    "\n",
    "m.Seventh = ConstraintList()\n",
    "for i in m.Jobs:\n",
    "  for j in m.Op:\n",
    "    for k in m.Mach:\n",
    "      m.Seventh.add(m.Ms>=m.C[i,j,k])\n",
    "\n",
    "m.Ninth = ConstraintList()\n",
    "for i in m.Jobs:\n",
    "  for j in m.Op:\n",
    "    for k in m.Mach:\n",
    "      m.Ninth.add(m.S[i,j,k]>=m.Bin[i,j,k]*a4[k])\n",
    "    \n",
    "\n",
    "\n",
    "#m.Eigth = ConstraintList()\n",
    "#m.Eigth.add(m.Ms>=sum(m.C[i,j,k] for i in m.Jobs for j in m.Op for k in m.Mach))\n",
    "\n",
    "m.obj = Objective(expr = m.Ms, sense=minimize)\n",
    "\n",
    "SolverFactory('cbc').solve(m).write()"
   ]
  },
  {
   "cell_type": "code",
   "execution_count": null,
   "metadata": {
    "colab": {
     "base_uri": "https://localhost:8080/"
    },
    "id": "bT7IR5xjKYe4",
    "outputId": "94ee6d0c-5cbe-45a2-e4df-4016a68fbffd"
   },
   "outputs": [
    {
     "name": "stdout",
     "output_type": "stream",
     "text": [
      "0 0 0.0 36.0 2\n",
      "0 1 36.0 90.0 1\n",
      "0 2 108.0 144.0 4\n",
      "0 3 144.0 180.0 6\n",
      "0 4 180.0 194.0 5\n",
      "0 5 194.0 230.0 5\n",
      "1 0 72.0 108.0 2\n",
      "1 1 108.0 144.0 2\n",
      "1 2 180.0 216.0 6\n",
      "1 3 216.0 230.0 5\n",
      "2 0 0.0 36.0 1\n",
      "2 1 36.0 72.0 2\n",
      "2 2 72.0 108.0 4\n",
      "2 3 144.0 180.0 4\n",
      "2 4 180.0 216.0 6\n",
      "2 5 216.0 230.0 5\n"
     ]
    }
   ],
   "source": [
    "for i in m.Jobs:\n",
    "  for j in m.Op:\n",
    "    for k in m.Mach:\n",
    "      if m.Bin[i,j,k]()==1:\n",
    "        if Dur[i][j]>0:\n",
    "          print(i,j, m.S[i,j,k](),m.C[i,j,k](), k+1)"
   ]
  }
 ],
 "metadata": {
  "colab": {
   "collapsed_sections": [],
   "name": "Excel_file_output",
   "provenance": []
  },
  "kernelspec": {
   "display_name": "Python 3",
   "language": "python",
   "name": "python3"
  },
  "language_info": {
   "codemirror_mode": {
    "name": "ipython",
    "version": 3
   },
   "file_extension": ".py",
   "mimetype": "text/x-python",
   "name": "python",
   "nbconvert_exporter": "python",
   "pygments_lexer": "ipython3",
   "version": "3.8.5"
  }
 },
 "nbformat": 4,
 "nbformat_minor": 1
}
